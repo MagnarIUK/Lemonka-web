{
 "cells": [
  {
   "cell_type": "code",
   "metadata": {
    "collapsed": true,
    "ExecuteTime": {
     "end_time": "2024-12-15T17:54:54.507368400Z",
     "start_time": "2024-12-15T17:54:54.176757200Z"
    }
   },
   "source": [
    "val line = \"[Тест]: Тестовий текст 23847\"\n",
    "\n",
    "val regex = \"\\\\[(.*?)]: (.*)\".toRegex()\n",
    "val match = regex.find(line)\n",
    "\n",
    "print(match?.groupValues)"
   ],
   "outputs": [
    {
     "name": "stdout",
     "output_type": "stream",
     "text": [
      "[[Тест]: Тестовий текст 23847, Тест, Тестовий текст 23847]"
     ]
    }
   ],
   "execution_count": 3
  },
  {
   "metadata": {},
   "cell_type": "code",
   "outputs": [],
   "execution_count": null,
   "source": [
    "\n",
    "\n"
   ]
  }
 ],
 "metadata": {
  "kernelspec": {
   "display_name": "Kotlin",
   "language": "kotlin",
   "name": "kotlin"
  },
  "language_info": {
   "name": "kotlin",
   "version": "1.9.23",
   "mimetype": "text/x-kotlin",
   "file_extension": ".kt",
   "pygments_lexer": "kotlin",
   "codemirror_mode": "text/x-kotlin",
   "nbconvert_exporter": ""
  }
 },
 "nbformat": 4,
 "nbformat_minor": 0
}
